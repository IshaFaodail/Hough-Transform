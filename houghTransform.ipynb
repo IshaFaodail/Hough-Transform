{
 "cells": [
  {
   "cell_type": "code",
   "execution_count": 1,
   "id": "900d0db6",
   "metadata": {},
   "outputs": [],
   "source": [
    "from math import hypot, pi, cos, sin\n",
    "from PIL import Image\n",
    "import numpy as np"
   ]
  },
  {
   "cell_type": "code",
   "execution_count": 2,
   "id": "e566b29d",
   "metadata": {},
   "outputs": [],
   "source": [
    "def hough(im, ntx=460, mry=360):\n",
    "    \"Calculate Hough transform.\"\n",
    "    pim = im.load()\n",
    "    nimx, mimy = im.size\n",
    "    mry = int(mry/2)*2          #Make sure that this is even\n",
    "    him = Image.new(\"L\", (ntx, mry), 255)\n",
    "    phim = him.load()\n",
    "\n",
    "    rmax = hypot(nimx, mimy)  # euclidian distance from input image dimension(from centre which hypotenuous)\n",
    "    dr = rmax / (mry/2)\n",
    "    dth = pi / ntx\n",
    "\n",
    "    for jx in range(nimx):\n",
    "        for iy in range(mimy):\n",
    "            col = pim[jx, iy]\n",
    "            if col == 255: continue\n",
    "            for jtx in range(ntx):\n",
    "                th = dth * jtx\n",
    "                r = jx*cos(th) + iy*sin(th)\n",
    "                iry = mry/2 + int(r/dr+0.5)\n",
    "                phim[jtx, iry] -= 1\n",
    "    return him\n",
    "\n",
    "\n",
    "def test():\n",
    "    im = Image.open(\"Pentagon.png\").convert(\"L\")\n",
    "    him = hough(im)\n",
    "    him.save(\"ho5.bmp\")\n",
    "\n",
    "\n",
    "if __name__ == \"__main__\": test()"
   ]
  },
  {
   "cell_type": "code",
   "execution_count": null,
   "id": "58b6b9fe",
   "metadata": {},
   "outputs": [],
   "source": []
  },
  {
   "cell_type": "code",
   "execution_count": null,
   "id": "3958f190",
   "metadata": {},
   "outputs": [],
   "source": []
  }
 ],
 "metadata": {
  "kernelspec": {
   "display_name": "Python 3 (ipykernel)",
   "language": "python",
   "name": "python3"
  },
  "language_info": {
   "codemirror_mode": {
    "name": "ipython",
    "version": 3
   },
   "file_extension": ".py",
   "mimetype": "text/x-python",
   "name": "python",
   "nbconvert_exporter": "python",
   "pygments_lexer": "ipython3",
   "version": "3.11.3"
  }
 },
 "nbformat": 4,
 "nbformat_minor": 5
}
